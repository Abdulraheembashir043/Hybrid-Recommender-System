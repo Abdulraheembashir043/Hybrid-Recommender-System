{
 "cells": [
  {
   "cell_type": "code",
   "execution_count": null,
   "id": "2ef28d01",
   "metadata": {},
   "outputs": [],
   "source": [
    "import os\n",
    "os.chdir('C:/Users/ALBANY PC/Desktop/FINAL YEAR PROJECT/Albany MRS')\n",
    "import json\n",
    "import pandas as pd"
   ]
  },
  {
   "cell_type": "code",
   "execution_count": null,
   "id": "dd468287",
   "metadata": {},
   "outputs": [
    {
     "ename": "ModuleNotFoundError",
     "evalue": "No module named 'pandas'",
     "output_type": "error",
     "traceback": [
      "\u001b[1;31m---------------------------------------------------------------------------\u001b[0m",
      "\u001b[1;31mModuleNotFoundError\u001b[0m                       Traceback (most recent call last)",
      "Cell \u001b[1;32mIn [5], line 1\u001b[0m\n\u001b[1;32m----> 1\u001b[0m \u001b[39mimport\u001b[39;00m \u001b[39mpandas\u001b[39;00m \u001b[39mas\u001b[39;00m \u001b[39mpd\u001b[39;00m\n",
      "\u001b[1;31mModuleNotFoundError\u001b[0m: No module named 'pandas'"
     ]
    }
   ],
   "source": [
    "import pandas as pd\n",
    "\n",
    "# # Import dataset to Data Frame\n",
    "\n",
    "# data = pd.read_csv(\"./Data/movie_metadata.csv\")\n",
    "# data.head()"
   ]
  },
  {
   "cell_type": "code",
   "execution_count": null,
   "id": "de9381ff",
   "metadata": {},
   "outputs": [
    {
     "data": {
      "text/plain": [
       "(5043, 28)"
      ]
     },
     "execution_count": 45,
     "metadata": {},
     "output_type": "execute_result"
    }
   ],
   "source": [
    "# Print the Shape of Data\n",
    "data.shape"
   ]
  },
  {
   "cell_type": "code",
   "execution_count": null,
   "id": "33120a65",
   "metadata": {},
   "outputs": [
    {
     "data": {
      "text/html": [
       "<div>\n",
       "<style scoped>\n",
       "    .dataframe tbody tr th:only-of-type {\n",
       "        vertical-align: middle;\n",
       "    }\n",
       "\n",
       "    .dataframe tbody tr th {\n",
       "        vertical-align: top;\n",
       "    }\n",
       "\n",
       "    .dataframe thead th {\n",
       "        text-align: right;\n",
       "    }\n",
       "</style>\n",
       "<table border=\"1\" class=\"dataframe\">\n",
       "  <thead>\n",
       "    <tr style=\"text-align: right;\">\n",
       "      <th></th>\n",
       "      <th>genres</th>\n",
       "      <th>movie_title</th>\n",
       "      <th>imdb_score</th>\n",
       "      <th>movie_imdb_link</th>\n",
       "    </tr>\n",
       "  </thead>\n",
       "  <tbody>\n",
       "    <tr>\n",
       "      <th>0</th>\n",
       "      <td>Action|Adventure|Fantasy|Sci-Fi</td>\n",
       "      <td>Avatar</td>\n",
       "      <td>7.9</td>\n",
       "      <td>http://www.imdb.com/title/tt0499549/?ref_=fn_t...</td>\n",
       "    </tr>\n",
       "    <tr>\n",
       "      <th>1</th>\n",
       "      <td>Action|Adventure|Fantasy</td>\n",
       "      <td>Pirates of the Caribbean: At World's End</td>\n",
       "      <td>7.1</td>\n",
       "      <td>http://www.imdb.com/title/tt0449088/?ref_=fn_t...</td>\n",
       "    </tr>\n",
       "    <tr>\n",
       "      <th>2</th>\n",
       "      <td>Action|Adventure|Thriller</td>\n",
       "      <td>Spectre</td>\n",
       "      <td>6.8</td>\n",
       "      <td>http://www.imdb.com/title/tt2379713/?ref_=fn_t...</td>\n",
       "    </tr>\n",
       "    <tr>\n",
       "      <th>3</th>\n",
       "      <td>Action|Thriller</td>\n",
       "      <td>The Dark Knight Rises</td>\n",
       "      <td>8.5</td>\n",
       "      <td>http://www.imdb.com/title/tt1345836/?ref_=fn_t...</td>\n",
       "    </tr>\n",
       "    <tr>\n",
       "      <th>4</th>\n",
       "      <td>Documentary</td>\n",
       "      <td>Star Wars: Episode VII - The Force Awakens    ...</td>\n",
       "      <td>7.1</td>\n",
       "      <td>http://www.imdb.com/title/tt5289954/?ref_=fn_t...</td>\n",
       "    </tr>\n",
       "  </tbody>\n",
       "</table>\n",
       "</div>"
      ],
      "text/plain": [
       "                            genres  \\\n",
       "0  Action|Adventure|Fantasy|Sci-Fi   \n",
       "1         Action|Adventure|Fantasy   \n",
       "2        Action|Adventure|Thriller   \n",
       "3                  Action|Thriller   \n",
       "4                      Documentary   \n",
       "\n",
       "                                         movie_title  imdb_score  \\\n",
       "0                                            Avatar          7.9   \n",
       "1          Pirates of the Caribbean: At World's End          7.1   \n",
       "2                                           Spectre          6.8   \n",
       "3                             The Dark Knight Rises          8.5   \n",
       "4  Star Wars: Episode VII - The Force Awakens    ...         7.1   \n",
       "\n",
       "                                     movie_imdb_link  \n",
       "0  http://www.imdb.com/title/tt0499549/?ref_=fn_t...  \n",
       "1  http://www.imdb.com/title/tt0449088/?ref_=fn_t...  \n",
       "2  http://www.imdb.com/title/tt2379713/?ref_=fn_t...  \n",
       "3  http://www.imdb.com/title/tt1345836/?ref_=fn_t...  \n",
       "4  http://www.imdb.com/title/tt5289954/?ref_=fn_t...  "
      ]
     },
     "execution_count": 46,
     "metadata": {},
     "output_type": "execute_result"
    }
   ],
   "source": [
    "# I will be using the four colums below.\n",
    "#Create a dataframe for the required columns\n",
    "\n",
    "df = data[['genres','movie_title','imdb_score', 'movie_imdb_link']].copy()\n",
    "df.head()"
   ]
  },
  {
   "cell_type": "code",
   "execution_count": null,
   "id": "970006b6",
   "metadata": {},
   "outputs": [
    {
     "data": {
      "text/plain": [
       "['Action',\n",
       " 'Adventure',\n",
       " 'Animation',\n",
       " 'Biography',\n",
       " 'Comedy',\n",
       " 'Crime',\n",
       " 'Documentary',\n",
       " 'Drama',\n",
       " 'Family',\n",
       " 'Fantasy',\n",
       " 'Film-Noir',\n",
       " 'Game-Show',\n",
       " 'History',\n",
       " 'Horror',\n",
       " 'Music',\n",
       " 'Musical',\n",
       " 'Mystery',\n",
       " 'News',\n",
       " 'Reality-TV',\n",
       " 'Romance',\n",
       " 'Sci-Fi',\n",
       " 'Short',\n",
       " 'Sport',\n",
       " 'Thriller',\n",
       " 'War',\n",
       " 'Western']"
      ]
     },
     "execution_count": 47,
     "metadata": {},
     "output_type": "execute_result"
    }
   ],
   "source": [
    "# Fetch genre of all movies\n",
    "# loops each row and splits the genres\n",
    "genres_all_movies = [df.loc[i]['genres'].split('|') for i in df.index]\n",
    "# type(genres_all_movies)\n",
    "\n",
    "\n",
    "#Find the list of all genres of all movies in aphabetical order\n",
    "# This next bit digs into each of the sublists in the genres array and extracts each of \n",
    "# the items from each sublist and dumps them into a single giant list. This is done using \n",
    "# a syntax called a list comprehension. This technique of extracting data from nested sublists \n",
    "# into a single list is called flattening.\n",
    "\n",
    "genres = sorted(list(set([item for sublist in genres_all_movies for item in sublist])))\n",
    "genres"
   ]
  },
  {
   "cell_type": "code",
   "execution_count": null,
   "id": "c9a16c30",
   "metadata": {},
   "outputs": [
    {
     "data": {
      "text/plain": [
       "26"
      ]
     },
     "execution_count": 48,
     "metadata": {},
     "output_type": "execute_result"
    }
   ],
   "source": [
    "# Just Checking for the length of genres\n",
    "len(genres)"
   ]
  },
  {
   "cell_type": "code",
   "execution_count": null,
   "id": "0542d4d4",
   "metadata": {},
   "outputs": [],
   "source": [
    "# Create a list for movie details and movie title seperately\n",
    "\n",
    "full_data=[]\n",
    "movie_titles = []"
   ]
  },
  {
   "cell_type": "code",
   "execution_count": null,
   "id": "12fd86b8",
   "metadata": {
    "scrolled": true
   },
   "outputs": [
    {
     "data": {
      "text/plain": [
       "pandas.core.frame.DataFrame"
      ]
     },
     "execution_count": 50,
     "metadata": {},
     "output_type": "execute_result"
    }
   ],
   "source": [
    "#I was curious about the type of the df before exporting to csv\n",
    "type(df)"
   ]
  },
  {
   "cell_type": "code",
   "execution_count": null,
   "id": "ee20d5de",
   "metadata": {},
   "outputs": [
    {
     "data": {
      "text/html": [
       "<div>\n",
       "<style scoped>\n",
       "    .dataframe tbody tr th:only-of-type {\n",
       "        vertical-align: middle;\n",
       "    }\n",
       "\n",
       "    .dataframe tbody tr th {\n",
       "        vertical-align: top;\n",
       "    }\n",
       "\n",
       "    .dataframe thead th {\n",
       "        text-align: right;\n",
       "    }\n",
       "</style>\n",
       "<table border=\"1\" class=\"dataframe\">\n",
       "  <thead>\n",
       "    <tr style=\"text-align: right;\">\n",
       "      <th></th>\n",
       "      <th>genres</th>\n",
       "      <th>movie_title</th>\n",
       "      <th>imdb_score</th>\n",
       "      <th>movie_imdb_link</th>\n",
       "    </tr>\n",
       "  </thead>\n",
       "  <tbody>\n",
       "    <tr>\n",
       "      <th>0</th>\n",
       "      <td>Action|Adventure|Fantasy|Sci-Fi</td>\n",
       "      <td>Avatar</td>\n",
       "      <td>7.9</td>\n",
       "      <td>http://www.imdb.com/title/tt0499549/?ref_=fn_t...</td>\n",
       "    </tr>\n",
       "    <tr>\n",
       "      <th>1</th>\n",
       "      <td>Action|Adventure|Fantasy</td>\n",
       "      <td>Pirates of the Caribbean: At World's End</td>\n",
       "      <td>7.1</td>\n",
       "      <td>http://www.imdb.com/title/tt0449088/?ref_=fn_t...</td>\n",
       "    </tr>\n",
       "    <tr>\n",
       "      <th>2</th>\n",
       "      <td>Action|Adventure|Thriller</td>\n",
       "      <td>Spectre</td>\n",
       "      <td>6.8</td>\n",
       "      <td>http://www.imdb.com/title/tt2379713/?ref_=fn_t...</td>\n",
       "    </tr>\n",
       "    <tr>\n",
       "      <th>3</th>\n",
       "      <td>Action|Thriller</td>\n",
       "      <td>The Dark Knight Rises</td>\n",
       "      <td>8.5</td>\n",
       "      <td>http://www.imdb.com/title/tt1345836/?ref_=fn_t...</td>\n",
       "    </tr>\n",
       "    <tr>\n",
       "      <th>4</th>\n",
       "      <td>Documentary</td>\n",
       "      <td>Star Wars: Episode VII - The Force Awakens    ...</td>\n",
       "      <td>7.1</td>\n",
       "      <td>http://www.imdb.com/title/tt5289954/?ref_=fn_t...</td>\n",
       "    </tr>\n",
       "    <tr>\n",
       "      <th>...</th>\n",
       "      <td>...</td>\n",
       "      <td>...</td>\n",
       "      <td>...</td>\n",
       "      <td>...</td>\n",
       "    </tr>\n",
       "    <tr>\n",
       "      <th>5038</th>\n",
       "      <td>Comedy|Drama</td>\n",
       "      <td>Signed Sealed Delivered</td>\n",
       "      <td>7.7</td>\n",
       "      <td>http://www.imdb.com/title/tt3000844/?ref_=fn_t...</td>\n",
       "    </tr>\n",
       "    <tr>\n",
       "      <th>5039</th>\n",
       "      <td>Crime|Drama|Mystery|Thriller</td>\n",
       "      <td>The Following</td>\n",
       "      <td>7.5</td>\n",
       "      <td>http://www.imdb.com/title/tt2071645/?ref_=fn_t...</td>\n",
       "    </tr>\n",
       "    <tr>\n",
       "      <th>5040</th>\n",
       "      <td>Drama|Horror|Thriller</td>\n",
       "      <td>A Plague So Pleasant</td>\n",
       "      <td>6.3</td>\n",
       "      <td>http://www.imdb.com/title/tt2107644/?ref_=fn_t...</td>\n",
       "    </tr>\n",
       "    <tr>\n",
       "      <th>5041</th>\n",
       "      <td>Comedy|Drama|Romance</td>\n",
       "      <td>Shanghai Calling</td>\n",
       "      <td>6.3</td>\n",
       "      <td>http://www.imdb.com/title/tt2070597/?ref_=fn_t...</td>\n",
       "    </tr>\n",
       "    <tr>\n",
       "      <th>5042</th>\n",
       "      <td>Documentary</td>\n",
       "      <td>My Date with Drew</td>\n",
       "      <td>6.6</td>\n",
       "      <td>http://www.imdb.com/title/tt0378407/?ref_=fn_t...</td>\n",
       "    </tr>\n",
       "  </tbody>\n",
       "</table>\n",
       "<p>5043 rows × 4 columns</p>\n",
       "</div>"
      ],
      "text/plain": [
       "                               genres  \\\n",
       "0     Action|Adventure|Fantasy|Sci-Fi   \n",
       "1            Action|Adventure|Fantasy   \n",
       "2           Action|Adventure|Thriller   \n",
       "3                     Action|Thriller   \n",
       "4                         Documentary   \n",
       "...                               ...   \n",
       "5038                     Comedy|Drama   \n",
       "5039     Crime|Drama|Mystery|Thriller   \n",
       "5040            Drama|Horror|Thriller   \n",
       "5041             Comedy|Drama|Romance   \n",
       "5042                      Documentary   \n",
       "\n",
       "                                            movie_title  imdb_score  \\\n",
       "0                                               Avatar          7.9   \n",
       "1             Pirates of the Caribbean: At World's End          7.1   \n",
       "2                                              Spectre          6.8   \n",
       "3                                The Dark Knight Rises          8.5   \n",
       "4     Star Wars: Episode VII - The Force Awakens    ...         7.1   \n",
       "...                                                 ...         ...   \n",
       "5038                           Signed Sealed Delivered          7.7   \n",
       "5039                         The Following                      7.5   \n",
       "5040                              A Plague So Pleasant          6.3   \n",
       "5041                                  Shanghai Calling          6.3   \n",
       "5042                                 My Date with Drew          6.6   \n",
       "\n",
       "                                        movie_imdb_link  \n",
       "0     http://www.imdb.com/title/tt0499549/?ref_=fn_t...  \n",
       "1     http://www.imdb.com/title/tt0449088/?ref_=fn_t...  \n",
       "2     http://www.imdb.com/title/tt2379713/?ref_=fn_t...  \n",
       "3     http://www.imdb.com/title/tt1345836/?ref_=fn_t...  \n",
       "4     http://www.imdb.com/title/tt5289954/?ref_=fn_t...  \n",
       "...                                                 ...  \n",
       "5038  http://www.imdb.com/title/tt3000844/?ref_=fn_t...  \n",
       "5039  http://www.imdb.com/title/tt2071645/?ref_=fn_t...  \n",
       "5040  http://www.imdb.com/title/tt2107644/?ref_=fn_t...  \n",
       "5041  http://www.imdb.com/title/tt2070597/?ref_=fn_t...  \n",
       "5042  http://www.imdb.com/title/tt0378407/?ref_=fn_t...  \n",
       "\n",
       "[5043 rows x 4 columns]"
      ]
     },
     "execution_count": 51,
     "metadata": {},
     "output_type": "execute_result"
    }
   ],
   "source": [
    "# I want to see the df, This is fun 😂😍\n",
    "# Dont mind me ahbeg 🤣🤣🤣\n",
    "#print(df)\n",
    "df"
   ]
  },
  {
   "cell_type": "code",
   "execution_count": null,
   "id": "db5fd5bd",
   "metadata": {},
   "outputs": [],
   "source": [
    "# I exported the df to CSv named 'test' so i can go open and view the data to understand how the codes in\n",
    "#  the next cell will work. Make I no go crash my lappy 🙄😏😂\n",
    "\n",
    "df.to_csv('test.csv')"
   ]
  },
  {
   "cell_type": "code",
   "execution_count": null,
   "id": "8de7d664",
   "metadata": {},
   "outputs": [],
   "source": [
    "for i in df.index:\n",
    "    #Append movie title and the index of the movie\n",
    "    movie_titles.append((df.loc[i]['movie_title'].strip(), i, df.loc[i]['movie_imdb_link'].strip()))\n",
    "    \n",
    "    #Add List of genres of the movie (1/10) to movie data\n",
    "    # What happens here is that i'm looping through all the rows in my df and I am assigning 1 to the list if \n",
    "    # a genre in the row is found in the genres list i have crfeated above. Else it assigns 0.\n",
    "    # Meaning I will now have a list of 26 either 0s or 1s based on which genre dey inside the table.\n",
    "    # I hope I am not confusing your confusion... E no easy..Buh try 😪😪😪\n",
    "    movie_data = [1 if genre in df.loc[i]['genres'].split('|') else 0 for genre in genres]\n",
    "    \n",
    "    # Add IMDB score of the movie to main data\n",
    "    movie_data.append(df.loc[i]['imdb_score'])\n",
    "    \n",
    "    #Add record of movie to main data list\n",
    "    # SK account Number 0222141656\n",
    "    \n",
    "    full_data.append(movie_data)\n",
    "    "
   ]
  },
  {
   "cell_type": "code",
   "execution_count": null,
   "id": "995318b5",
   "metadata": {},
   "outputs": [
    {
     "name": "stdout",
     "output_type": "stream",
     "text": [
      "(\"Pirates of the Caribbean: At World's End\", 1, 'http://www.imdb.com/title/tt0449088/?ref_=fn_tt_tt_1')\n"
     ]
    }
   ],
   "source": [
    "# View the list to see the data stored in each list in the movie_titles  list\n",
    "print(movie_titles[1])\n",
    "\n",
    "# Wetin i dey try do now fit hang my system buh who am i not to satisfy my curiosity 😆\n",
    "# print(movie_titles) "
   ]
  },
  {
   "cell_type": "markdown",
   "id": "9f1c5bc7",
   "metadata": {},
   "source": [
    "# View the list to see the data stored in each list in the full_data  list\n",
    "print(full_data[2])"
   ]
  },
  {
   "cell_type": "code",
   "execution_count": null,
   "id": "3831ce25",
   "metadata": {},
   "outputs": [
    {
     "ename": "NameError",
     "evalue": "name 'movie_titles' is not defined",
     "output_type": "error",
     "traceback": [
      "\u001b[1;31m---------------------------------------------------------------------------\u001b[0m",
      "\u001b[1;31mNameError\u001b[0m                                 Traceback (most recent call last)",
      "Cell \u001b[1;32mIn [3], line 1\u001b[0m\n\u001b[1;32m----> 1\u001b[0m \u001b[39mprint\u001b[39m(movie_titles)\n",
      "\u001b[1;31mNameError\u001b[0m: name 'movie_titles' is not defined"
     ]
    }
   ],
   "source": [
    "print(movie_titles)"
   ]
  },
  {
   "cell_type": "code",
   "execution_count": null,
   "id": "f2012eed",
   "metadata": {},
   "outputs": [],
   "source": [
    "# Exporting the two data as JSON files (JSON dump into Specific Folder)\n",
    "# Syntax\n",
    "# dictionary to be dumped\n",
    "# ''''''''''''''''''\n",
    "# d ={'lang':'??? ????'}\n",
    "\n",
    "# with open('myfile.json', 'w', encoding ='utf8') as json_file:\n",
    "# \tjson.dump(d, json_file, ensure_ascii = False)\n",
    "# ''''''''''''''''''\n",
    "\n",
    "\n",
    "data_dump = './Data/movie_data.json'\n",
    "titles_dump = './Data/movie_titles.json'\n",
    "\n",
    "with open(data_dump, 'w+', encoding = 'utf-8') as f:\n",
    "    json.dump(full_data, f)\n",
    "    \n",
    "with open(titles_dump, 'w+', encoding = 'utf-8') as f:\n",
    "    json.dump(movie_titles, f)"
   ]
  },
  {
   "cell_type": "code",
   "execution_count": null,
   "id": "b3474d26",
   "metadata": {},
   "outputs": [],
   "source": [
    "# print(titles_dump)\n",
    "print(\"Albany\")"
   ]
  },
  {
   "cell_type": "code",
   "execution_count": null,
   "id": "35d2804f",
   "metadata": {},
   "outputs": [
    {
     "name": "stdout",
     "output_type": "stream",
     "text": [
      "Alna\n"
     ]
    }
   ],
   "source": [
    "print('Alna')"
   ]
  }
 ],
 "metadata": {
  "kernelspec": {
   "display_name": "Python 3.7.9 64-bit (microsoft store)",
   "language": "python",
   "name": "python3"
  },
  "language_info": {
   "codemirror_mode": {
    "name": "ipython",
    "version": 3
   },
   "file_extension": ".py",
   "mimetype": "text/x-python",
   "name": "python",
   "nbconvert_exporter": "python",
   "pygments_lexer": "ipython3",
   "version": "3.7.9"
  },
  "vscode": {
   "interpreter": {
    "hash": "784a0799c0dae6dba3c15d23f5950f5cac127d4542c4889e7ad9101ae93f3407"
   }
  }
 },
 "nbformat": 4,
 "nbformat_minor": 5
}
